{
 "cells": [
  {
   "cell_type": "markdown",
   "metadata": {},
   "source": [
    "# Example to use HPX's parallel algorithms"
   ]
  },
  {
   "cell_type": "markdown",
   "metadata": {},
   "source": [
    "## Include headers"
   ]
  },
  {
   "cell_type": "code",
   "execution_count": 1,
   "metadata": {},
   "outputs": [
    {
     "name": "stderr",
     "output_type": "stream",
     "text": [
      "IncrementalExecutor::executeFunction: symbol '__emutls_v._ZSt11__once_call' unresolved while linking function '__cxx_global_var_initcling_module_1_.29'!\n",
      "IncrementalExecutor::executeFunction: symbol '__emutls_v._ZSt15__once_callable' unresolved while linking function '__cxx_global_var_initcling_module_1_.29'!\n"
     ]
    },
    {
     "data": {
      "text/plain": []
     },
     "execution_count": 1,
     "metadata": {},
     "output_type": "execute_result"
    }
   ],
   "source": [
    "#include<run_hpx.cpp>\n",
    "#include<vector>\n",
    "#include<iostream>\n",
    "#include<hpx/include/parallel_for_loop.hpp>\n",
    "#include<hpx/parallel/algorithms/reduce.hpp>"
   ]
  },
  {
   "cell_type": "markdown",
   "metadata": {},
   "source": [
    "## Initialze vector"
   ]
  },
  {
   "cell_type": "code",
   "execution_count": 2,
   "metadata": {},
   "outputs": [
    {
     "data": {
      "text/plain": []
     },
     "execution_count": 2,
     "metadata": {},
     "output_type": "execute_result"
    }
   ],
   "source": [
    "std::vector<double> values = {1,2,3,4,5,6,7,8,9};"
   ]
  },
  {
   "cell_type": "markdown",
   "metadata": {},
   "source": [
    "## Print the vector items using a parallel for loop"
   ]
  },
  {
   "cell_type": "code",
   "execution_count": 3,
   "metadata": {},
   "outputs": [
    {
     "name": "stderr",
     "output_type": "stream",
     "text": [
      "No lmsensors events found.\n",
      "lmsensors library libsensors.so not found..\n",
      "Error starting PAPI eventset.\n"
     ]
    },
    {
     "name": "stdout",
     "output_type": "stream",
     "text": [
      "PAPI lmsensors component found...\n",
      "91\n",
      "\n",
      "56\n",
      "\n",
      "7\n",
      "8\n",
      "2\n",
      "3\n",
      "4\n"
     ]
    },
    {
     "data": {
      "text/plain": [
       "(void) @0x7fefbf5aabe8\n"
      ]
     },
     "execution_count": 3,
     "metadata": {},
     "output_type": "execute_result"
    }
   ],
   "source": [
    "run_hpx([](){\n",
    "\n",
    "hpx::parallel::for_loop(\n",
    "\thpx::parallel::execution::par, \n",
    "\t0, \n",
    "\tvalues.size(),\n",
    "\t[](boost::uint64_t i)\n",
    "\t\t{\n",
    "\t\tstd::cout<< values[i] << std::endl;\n",
    "\t\t}\n",
    "\t);\n",
    "\n",
    "});"
   ]
  },
  {
   "cell_type": "markdown",
   "metadata": {},
   "source": [
    "## Compute the sum of the vector elements using HPX's parallel algorithms"
   ]
  },
  {
   "cell_type": "code",
   "execution_count": 4,
   "metadata": {},
   "outputs": [
    {
     "name": "stderr",
     "output_type": "stream",
     "text": [
      "input_line_7:4:1: error: no matching function for call to 'reduce'\n",
      "hpx::lcos::reduce (hpx::parallel::execution::par,std::begin(values), std::end(values) ,0);\n",
      "^~~~~~~~~~~~~~~~~\n",
      "/usr/local/include/hpx/collectives/reduce.hpp:290:63: note: candidate template ignored: couldn't infer template argument 'Action'\n",
      "    hpx::future<typename detail::reduce_result<Action>::type> reduce(\n",
      "                                                              ^\n",
      "/usr/local/include/hpx/collectives/reduce.hpp:312:64: note: candidate template ignored: could not match 'basic_action<type-parameter-0-0, type-parameter-0-1, type-parameter-0-2>' against 'hpx::parallel::execution::parallel_policy'\n",
      "    hpx::future<typename detail::reduce_result<Derived>::type> reduce(\n",
      "                                                               ^\n"
     ]
    },
    {
     "ename": "ename",
     "evalue": "evalue",
     "output_type": "error",
     "traceback": []
    }
   ],
   "source": [
    "run_hpx([](){\n",
    "\n",
    "hpx::lcos::reduce (hpx::parallel::execution::par,std::begin(values), std::end(values) ,0);\n",
    "\n",
    "});"
   ]
  }
 ],
 "metadata": {
  "kernelspec": {
   "display_name": "C++17",
   "language": "C++",
   "name": "cling-cpp17"
  },
  "language_info": {
   "codemirror_mode": "c++",
   "file_extension": ".c++",
   "mimetype": "text/x-c++src",
   "name": "c++"
  }
 },
 "nbformat": 4,
 "nbformat_minor": 2
}

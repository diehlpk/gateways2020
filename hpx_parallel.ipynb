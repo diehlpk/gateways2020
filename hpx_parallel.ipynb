{
 "cells": [
  {
   "cell_type": "markdown",
   "metadata": {},
   "source": [
    "# Example to use HPX's parallel algorithms"
   ]
  },
  {
   "cell_type": "markdown",
   "metadata": {},
   "source": [
    "## Include headers"
   ]
  },
  {
   "cell_type": "code",
   "execution_count": 1,
   "metadata": {},
   "outputs": [
    {
     "data": {
      "text/plain": []
     },
     "execution_count": 1,
     "metadata": {},
     "output_type": "execute_result"
    }
   ],
   "source": [
    "#include<run_hpx.cpp>\n",
    "#include<vector>\n",
    "#include<iostream>\n",
    "#include<hpx/include/parallel_for_loop.hpp>\n",
    "#include<hpx/parallel/algorithms/reduce.hpp>\n",
    "#include<algorithm>\n",
    "#include <numeric>"
   ]
  },
  {
   "cell_type": "markdown",
   "metadata": {},
   "source": [
    "## Initialze vector"
   ]
  },
  {
   "cell_type": "code",
   "execution_count": 2,
   "metadata": {},
   "outputs": [
    {
     "data": {
      "text/plain": []
     },
     "execution_count": 2,
     "metadata": {},
     "output_type": "execute_result"
    }
   ],
   "source": [
    "std::vector<double> values = {1,2,3,4,5,6,7,8,9};"
   ]
  },
  {
   "cell_type": "markdown",
   "metadata": {},
   "source": [
    "## Print the vector items using a parallel for loop"
   ]
  },
  {
   "cell_type": "code",
   "execution_count": 3,
   "metadata": {},
   "outputs": [
    {
     "name": "stderr",
     "output_type": "stream",
     "text": [
      "input_line_5:4:16: warning: 'for_loop<const hpx::execution::parallel_policy &, unsigned long, (lambda at input_line_5:8:2), 42, 0>' is deprecated: hpx::parallel::for_loop is deprecated, use hpx::for_loop instead (This functionality is deprecated starting HPX V1.6 and will be removed in the future. You can define HPX_HAVE_DEPRECATION_WARNINGS_V1_6=0 to acknowledge that you have received this warning.) [-Wdeprecated-declarations]\n",
      "hpx::parallel::for_loop(\n",
      "               ^\n",
      "/usr/local/include/hpx/parallel/algorithms/for_loop.hpp:1073:9: note: 'for_loop<const hpx::execution::parallel_policy &, unsigned long, (lambda at input_line_5:8:2), 42, 0>' has been explicitly marked deprecated here\n",
      "        HPX_DEPRECATED_V(1, 6,\n",
      "        ^\n",
      "/usr/local/include/hpx/config/deprecation.hpp:75:5: note: expanded from macro 'HPX_DEPRECATED_V'\n",
      "    HPX_PP_CAT(HPX_PP_CAT(HPX_PP_CAT(HPX_DEPRECATED_V, major), _), minor)(x)\n",
      "    ^\n",
      "/usr/local/include/hpx/preprocessor/cat.hpp:28:26: note: expanded from macro 'HPX_PP_CAT'\n",
      "#define HPX_PP_CAT(a, b) HPX_PP_CAT_I(a, b)\n",
      "                         ^\n",
      "/usr/local/include/hpx/preprocessor/cat.hpp:36:28: note: expanded from macro 'HPX_PP_CAT_I'\n",
      "#define HPX_PP_CAT_I(a, b) a##b\n",
      "                           ^\n",
      "<scratch space>:163:1: note: expanded from here\n",
      "HPX_DEPRECATED_V1_6\n",
      "^\n",
      "/usr/local/include/hpx/config/deprecation.hpp:65:5: note: expanded from macro 'HPX_DEPRECATED_V1_6'\n",
      "    HPX_DEPRECATED(x \" (\" HPX_PP_EXPAND(HPX_DEPRECATED_MSG_V1_6) \")\")\n",
      "    ^\n",
      "/usr/local/include/hpx/config/attributes.hpp:69:31: note: expanded from macro 'HPX_DEPRECATED'\n",
      "#  define HPX_DEPRECATED(x) [[deprecated(x)]]\n",
      "                              ^\n"
     ]
    },
    {
     "name": "stdout",
     "output_type": "stream",
     "text": [
      "37\n",
      "\n",
      "51\n",
      "\n",
      "4\n",
      "62\n",
      "\n",
      "8\n",
      "9\n"
     ]
    },
    {
     "data": {
      "text/plain": [
       "(void) @0x7faed0c06d28\n"
      ]
     },
     "execution_count": 3,
     "metadata": {},
     "output_type": "execute_result"
    }
   ],
   "source": [
    "run_hpx([](){\n",
    "\n",
    "hpx::parallel::for_loop(\n",
    "\thpx::execution::par, \n",
    "\t0, \n",
    "\tvalues.size(),\n",
    "\t[](boost::uint64_t i)\n",
    "\t\t{\n",
    "\t\tstd::cout<< values[i] << std::endl;\n",
    "\t\t}\n",
    "\t);\n",
    "\n",
    "});"
   ]
  },
  {
   "cell_type": "markdown",
   "metadata": {},
   "source": [
    "## Compute the sum of the vector elements using HPX's parallel algorithms"
   ]
  },
  {
   "cell_type": "code",
   "execution_count": 4,
   "metadata": {},
   "outputs": [
    {
     "data": {
      "text/plain": []
     },
     "execution_count": 4,
     "metadata": {},
     "output_type": "execute_result"
    }
   ],
   "source": [
    "int res_parallel = 0;"
   ]
  },
  {
   "cell_type": "code",
   "execution_count": 5,
   "metadata": {},
   "outputs": [
    {
     "name": "stderr",
     "output_type": "stream",
     "text": [
      "input_line_8:4:35: warning: 'reduce<const hpx::execution::parallel_policy &, __gnu_cxx::__normal_iterator<double *, std::vector<double, std::allocator<double> > >, __gnu_cxx::__normal_iterator<double *, std::vector<double, std::allocator<double> > >, int, 42, 0>' is deprecated: hpx::parallel::reduce is deprecated, use hpx::ranges::reduce instead (This functionality is deprecated starting HPX V1.6 and will be removed in the future. You can define HPX_HAVE_DEPRECATION_WARNINGS_V1_6=0 to acknowledge that you have received this warning.) [-Wdeprecated-declarations]\n",
      "res_parallel = hpx::parallel::v1::reduce(hpx::execution::par,values.begin(), values.end() ,0);\n",
      "                                  ^\n",
      "/usr/local/include/hpx/parallel/algorithms/reduce.hpp:351:5: note: 'reduce<const hpx::execution::parallel_policy &, __gnu_cxx::__normal_iterator<double *, std::vector<double, std::allocator<double> > >, __gnu_cxx::__normal_iterator<double *, std::vector<double, std::allocator<double> > >, int, 42, 0>' has been explicitly marked deprecated here\n",
      "    HPX_DEPRECATED_V(1, 6,\n",
      "    ^\n",
      "/usr/local/include/hpx/config/deprecation.hpp:75:5: note: expanded from macro 'HPX_DEPRECATED_V'\n",
      "    HPX_PP_CAT(HPX_PP_CAT(HPX_PP_CAT(HPX_DEPRECATED_V, major), _), minor)(x)\n",
      "    ^\n",
      "/usr/local/include/hpx/preprocessor/cat.hpp:28:26: note: expanded from macro 'HPX_PP_CAT'\n",
      "#define HPX_PP_CAT(a, b) HPX_PP_CAT_I(a, b)\n",
      "                         ^\n",
      "/usr/local/include/hpx/preprocessor/cat.hpp:36:28: note: expanded from macro 'HPX_PP_CAT_I'\n",
      "#define HPX_PP_CAT_I(a, b) a##b\n",
      "                           ^\n",
      "<scratch space>:190:1: note: expanded from here\n",
      "HPX_DEPRECATED_V1_6\n",
      "^\n",
      "/usr/local/include/hpx/config/deprecation.hpp:65:5: note: expanded from macro 'HPX_DEPRECATED_V1_6'\n",
      "    HPX_DEPRECATED(x \" (\" HPX_PP_EXPAND(HPX_DEPRECATED_MSG_V1_6) \")\")\n",
      "    ^\n",
      "/usr/local/include/hpx/config/attributes.hpp:69:31: note: expanded from macro 'HPX_DEPRECATED'\n",
      "#  define HPX_DEPRECATED(x) [[deprecated(x)]]\n",
      "                              ^\n"
     ]
    },
    {
     "name": "stdout",
     "output_type": "stream",
     "text": [
      "45\n"
     ]
    },
    {
     "data": {
      "text/plain": [
       "(void) @0x7faed0c06d28\n"
      ]
     },
     "execution_count": 5,
     "metadata": {},
     "output_type": "execute_result"
    }
   ],
   "source": [
    "run_hpx([](){\n",
    "\n",
    "res_parallel = hpx::parallel::v1::reduce(hpx::execution::par,values.begin(), values.end() ,0);\n",
    "    \n",
    "std::cout << res_parallel << std::endl;\n",
    "\n",
    "});"
   ]
  },
  {
   "cell_type": "markdown",
   "metadata": {},
   "source": [
    "## Compute the sum with in serial using the STL"
   ]
  },
  {
   "cell_type": "code",
   "execution_count": 6,
   "metadata": {},
   "outputs": [
    {
     "data": {
      "text/plain": []
     },
     "execution_count": 6,
     "metadata": {},
     "output_type": "execute_result"
    }
   ],
   "source": [
    "int res_serial = std::accumulate(values.begin(), values.end() ,0);"
   ]
  },
  {
   "cell_type": "code",
   "execution_count": 7,
   "metadata": {},
   "outputs": [
    {
     "name": "stdout",
     "output_type": "stream",
     "text": [
      "45\n"
     ]
    },
    {
     "data": {
      "text/plain": [
       "(std::basic_ostream<char, std::char_traits<char> >::__ostream_type &) @0x7faed69d0500\n"
      ]
     },
     "execution_count": 7,
     "metadata": {},
     "output_type": "execute_result"
    }
   ],
   "source": [
    "std::cout << res_serial << std::endl;"
   ]
  },
  {
   "cell_type": "markdown",
   "metadata": {},
   "source": [
    "## Check if both results are the same"
   ]
  },
  {
   "cell_type": "code",
   "execution_count": 8,
   "metadata": {},
   "outputs": [
    {
     "data": {
      "text/plain": []
     },
     "execution_count": 8,
     "metadata": {},
     "output_type": "execute_result"
    }
   ],
   "source": [
    "#define Assert(X) if(!(X)) std::cerr << \"ASSERTION FAILURE: \" << #X << std::endl;"
   ]
  },
  {
   "cell_type": "code",
   "execution_count": 9,
   "metadata": {},
   "outputs": [
    {
     "data": {
      "text/plain": []
     },
     "execution_count": 9,
     "metadata": {},
     "output_type": "execute_result"
    }
   ],
   "source": [
    "Assert(res_serial==res_parallel)"
   ]
  }
 ],
 "metadata": {
  "kernelspec": {
   "display_name": "C++17",
   "language": "C++",
   "name": "cling-cpp17"
  },
  "language_info": {
   "codemirror_mode": "c++",
   "file_extension": ".c++",
   "mimetype": "text/x-c++src",
   "name": "c++"
  }
 },
 "nbformat": 4,
 "nbformat_minor": 2
}
